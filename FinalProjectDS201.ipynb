{
  "cells": [
    {
      "cell_type": "code",
      "execution_count": null,
      "metadata": {
        "id": "41StziAJi41j"
      },
      "outputs": [],
      "source": [
        "import pandas as pd\n",
        "import matplotlib.pyplot as plt\n",
        "import seaborn as sns\n",
        "import warnings\n",
        "warnings.filterwarnings('ignore')"
      ]
    },
    {
      "cell_type": "code",
      "execution_count": null,
      "metadata": {
        "id": "xLS_EisQi41k"
      },
      "outputs": [],
      "source": [
        "url = 'https://raw.githubusercontent.com/jakobgross/Students-Performance-in-Exams-Kaggle-/master/StudentsPerformance.csv'\n",
        "df = pd.read_csv(url)"
      ]
    },
    {
      "cell_type": "code",
      "execution_count": null,
      "metadata": {
        "colab": {
          "base_uri": "https://localhost:8080/",
          "height": 204
        },
        "id": "PwiK92-Xi41l",
        "outputId": "2a1b2caf-d999-4b75-f9aa-01d0742c9a28"
      },
      "outputs": [
        {
          "data": {
            "text/html": [
              "<div>\n",
              "<style scoped>\n",
              "    .dataframe tbody tr th:only-of-type {\n",
              "        vertical-align: middle;\n",
              "    }\n",
              "\n",
              "    .dataframe tbody tr th {\n",
              "        vertical-align: top;\n",
              "    }\n",
              "\n",
              "    .dataframe thead th {\n",
              "        text-align: right;\n",
              "    }\n",
              "</style>\n",
              "<table border=\"1\" class=\"dataframe\">\n",
              "  <thead>\n",
              "    <tr style=\"text-align: right;\">\n",
              "      <th></th>\n",
              "      <th>gender</th>\n",
              "      <th>race/ethnicity</th>\n",
              "      <th>parental level of education</th>\n",
              "      <th>lunch</th>\n",
              "      <th>test preparation course</th>\n",
              "      <th>math score</th>\n",
              "      <th>reading score</th>\n",
              "      <th>writing score</th>\n",
              "    </tr>\n",
              "  </thead>\n",
              "  <tbody>\n",
              "    <tr>\n",
              "      <th>0</th>\n",
              "      <td>female</td>\n",
              "      <td>group B</td>\n",
              "      <td>bachelor's degree</td>\n",
              "      <td>standard</td>\n",
              "      <td>none</td>\n",
              "      <td>72</td>\n",
              "      <td>72</td>\n",
              "      <td>74</td>\n",
              "    </tr>\n",
              "    <tr>\n",
              "      <th>1</th>\n",
              "      <td>female</td>\n",
              "      <td>group C</td>\n",
              "      <td>some college</td>\n",
              "      <td>standard</td>\n",
              "      <td>completed</td>\n",
              "      <td>69</td>\n",
              "      <td>90</td>\n",
              "      <td>88</td>\n",
              "    </tr>\n",
              "    <tr>\n",
              "      <th>2</th>\n",
              "      <td>female</td>\n",
              "      <td>group B</td>\n",
              "      <td>master's degree</td>\n",
              "      <td>standard</td>\n",
              "      <td>none</td>\n",
              "      <td>90</td>\n",
              "      <td>95</td>\n",
              "      <td>93</td>\n",
              "    </tr>\n",
              "    <tr>\n",
              "      <th>3</th>\n",
              "      <td>male</td>\n",
              "      <td>group A</td>\n",
              "      <td>associate's degree</td>\n",
              "      <td>free/reduced</td>\n",
              "      <td>none</td>\n",
              "      <td>47</td>\n",
              "      <td>57</td>\n",
              "      <td>44</td>\n",
              "    </tr>\n",
              "    <tr>\n",
              "      <th>4</th>\n",
              "      <td>male</td>\n",
              "      <td>group C</td>\n",
              "      <td>some college</td>\n",
              "      <td>standard</td>\n",
              "      <td>none</td>\n",
              "      <td>76</td>\n",
              "      <td>78</td>\n",
              "      <td>75</td>\n",
              "    </tr>\n",
              "  </tbody>\n",
              "</table>\n",
              "</div>"
            ],
            "text/plain": [
              "   gender race/ethnicity  ... reading score writing score\n",
              "0  female        group B  ...            72            74\n",
              "1  female        group C  ...            90            88\n",
              "2  female        group B  ...            95            93\n",
              "3    male        group A  ...            57            44\n",
              "4    male        group C  ...            78            75\n",
              "\n",
              "[5 rows x 8 columns]"
            ]
          },
          "execution_count": 4,
          "metadata": {
            "tags": []
          },
          "output_type": "execute_result"
        }
      ],
      "source": [
        "df.head()"
      ]
    },
    {
      "cell_type": "code",
      "execution_count": null,
      "metadata": {
        "colab": {
          "base_uri": "https://localhost:8080/"
        },
        "id": "RrnsXSiLoR0P",
        "outputId": "de39f63e-af5f-4d5d-d910-e8ab89a09b67"
      },
      "outputs": [
        {
          "data": {
            "text/plain": [
              "False"
            ]
          },
          "execution_count": 5,
          "metadata": {
            "tags": []
          },
          "output_type": "execute_result"
        }
      ],
      "source": [
        "df.duplicated().any()"
      ]
    },
    {
      "cell_type": "code",
      "execution_count": null,
      "metadata": {
        "colab": {
          "base_uri": "https://localhost:8080/"
        },
        "id": "FxaH2MXRi41m",
        "outputId": "5801ccfb-9bb6-4805-f365-6080a8847898"
      },
      "outputs": [
        {
          "data": {
            "text/plain": [
              "gender                         False\n",
              "race/ethnicity                 False\n",
              "parental level of education    False\n",
              "lunch                          False\n",
              "test preparation course        False\n",
              "math score                     False\n",
              "reading score                  False\n",
              "writing score                  False\n",
              "dtype: bool"
            ]
          },
          "execution_count": 6,
          "metadata": {
            "tags": []
          },
          "output_type": "execute_result"
        }
      ],
      "source": [
        "df.isnull().any()"
      ]
    },
    {
      "cell_type": "code",
      "execution_count": null,
      "metadata": {
        "id": "A0TE1hMwycG_"
      },
      "outputs": [],
      "source": [
        "df.columns = ['gender', 'race', 'parents_degree', 'lunch', 'test_prep', 'math_score', 'reading_score', 'writing_score']"
      ]
    },
    {
      "cell_type": "code",
      "execution_count": null,
      "metadata": {
        "colab": {
          "base_uri": "https://localhost:8080/",
          "height": 419
        },
        "id": "cWVUe10LvLzI",
        "outputId": "e475fe44-6362-4803-ab1c-3355642fbf84"
      },
      "outputs": [
        {
          "data": {
            "text/html": [
              "<div>\n",
              "<style scoped>\n",
              "    .dataframe tbody tr th:only-of-type {\n",
              "        vertical-align: middle;\n",
              "    }\n",
              "\n",
              "    .dataframe tbody tr th {\n",
              "        vertical-align: top;\n",
              "    }\n",
              "\n",
              "    .dataframe thead th {\n",
              "        text-align: right;\n",
              "    }\n",
              "</style>\n",
              "<table border=\"1\" class=\"dataframe\">\n",
              "  <thead>\n",
              "    <tr style=\"text-align: right;\">\n",
              "      <th></th>\n",
              "      <th>gender</th>\n",
              "      <th>race</th>\n",
              "      <th>parents_degree</th>\n",
              "      <th>lunch</th>\n",
              "      <th>test_prep</th>\n",
              "      <th>math_score</th>\n",
              "      <th>reading_score</th>\n",
              "      <th>writing_score</th>\n",
              "    </tr>\n",
              "  </thead>\n",
              "  <tbody>\n",
              "    <tr>\n",
              "      <th>0</th>\n",
              "      <td>female</td>\n",
              "      <td>group B</td>\n",
              "      <td>bachelor's degree</td>\n",
              "      <td>standard</td>\n",
              "      <td>none</td>\n",
              "      <td>72</td>\n",
              "      <td>72</td>\n",
              "      <td>74</td>\n",
              "    </tr>\n",
              "    <tr>\n",
              "      <th>1</th>\n",
              "      <td>female</td>\n",
              "      <td>group C</td>\n",
              "      <td>some college</td>\n",
              "      <td>standard</td>\n",
              "      <td>completed</td>\n",
              "      <td>69</td>\n",
              "      <td>90</td>\n",
              "      <td>88</td>\n",
              "    </tr>\n",
              "    <tr>\n",
              "      <th>2</th>\n",
              "      <td>female</td>\n",
              "      <td>group B</td>\n",
              "      <td>master's degree</td>\n",
              "      <td>standard</td>\n",
              "      <td>none</td>\n",
              "      <td>90</td>\n",
              "      <td>95</td>\n",
              "      <td>93</td>\n",
              "    </tr>\n",
              "    <tr>\n",
              "      <th>3</th>\n",
              "      <td>male</td>\n",
              "      <td>group A</td>\n",
              "      <td>associate's degree</td>\n",
              "      <td>free/reduced</td>\n",
              "      <td>none</td>\n",
              "      <td>47</td>\n",
              "      <td>57</td>\n",
              "      <td>44</td>\n",
              "    </tr>\n",
              "    <tr>\n",
              "      <th>4</th>\n",
              "      <td>male</td>\n",
              "      <td>group C</td>\n",
              "      <td>some college</td>\n",
              "      <td>standard</td>\n",
              "      <td>none</td>\n",
              "      <td>76</td>\n",
              "      <td>78</td>\n",
              "      <td>75</td>\n",
              "    </tr>\n",
              "    <tr>\n",
              "      <th>...</th>\n",
              "      <td>...</td>\n",
              "      <td>...</td>\n",
              "      <td>...</td>\n",
              "      <td>...</td>\n",
              "      <td>...</td>\n",
              "      <td>...</td>\n",
              "      <td>...</td>\n",
              "      <td>...</td>\n",
              "    </tr>\n",
              "    <tr>\n",
              "      <th>995</th>\n",
              "      <td>female</td>\n",
              "      <td>group E</td>\n",
              "      <td>master's degree</td>\n",
              "      <td>standard</td>\n",
              "      <td>completed</td>\n",
              "      <td>88</td>\n",
              "      <td>99</td>\n",
              "      <td>95</td>\n",
              "    </tr>\n",
              "    <tr>\n",
              "      <th>996</th>\n",
              "      <td>male</td>\n",
              "      <td>group C</td>\n",
              "      <td>high school</td>\n",
              "      <td>free/reduced</td>\n",
              "      <td>none</td>\n",
              "      <td>62</td>\n",
              "      <td>55</td>\n",
              "      <td>55</td>\n",
              "    </tr>\n",
              "    <tr>\n",
              "      <th>997</th>\n",
              "      <td>female</td>\n",
              "      <td>group C</td>\n",
              "      <td>high school</td>\n",
              "      <td>free/reduced</td>\n",
              "      <td>completed</td>\n",
              "      <td>59</td>\n",
              "      <td>71</td>\n",
              "      <td>65</td>\n",
              "    </tr>\n",
              "    <tr>\n",
              "      <th>998</th>\n",
              "      <td>female</td>\n",
              "      <td>group D</td>\n",
              "      <td>some college</td>\n",
              "      <td>standard</td>\n",
              "      <td>completed</td>\n",
              "      <td>68</td>\n",
              "      <td>78</td>\n",
              "      <td>77</td>\n",
              "    </tr>\n",
              "    <tr>\n",
              "      <th>999</th>\n",
              "      <td>female</td>\n",
              "      <td>group D</td>\n",
              "      <td>some college</td>\n",
              "      <td>free/reduced</td>\n",
              "      <td>none</td>\n",
              "      <td>77</td>\n",
              "      <td>86</td>\n",
              "      <td>86</td>\n",
              "    </tr>\n",
              "  </tbody>\n",
              "</table>\n",
              "<p>1000 rows × 8 columns</p>\n",
              "</div>"
            ],
            "text/plain": [
              "     gender     race  ... reading_score writing_score\n",
              "0    female  group B  ...            72            74\n",
              "1    female  group C  ...            90            88\n",
              "2    female  group B  ...            95            93\n",
              "3      male  group A  ...            57            44\n",
              "4      male  group C  ...            78            75\n",
              "..      ...      ...  ...           ...           ...\n",
              "995  female  group E  ...            99            95\n",
              "996    male  group C  ...            55            55\n",
              "997  female  group C  ...            71            65\n",
              "998  female  group D  ...            78            77\n",
              "999  female  group D  ...            86            86\n",
              "\n",
              "[1000 rows x 8 columns]"
            ]
          },
          "execution_count": 8,
          "metadata": {
            "tags": []
          },
          "output_type": "execute_result"
        }
      ],
      "source": [
        "df"
      ]
    },
    {
      "cell_type": "code",
      "execution_count": null,
      "metadata": {
        "id": "WIUR7S8yi41m"
      },
      "outputs": [],
      "source": [
        "df2 = df.groupby('lunch')['reading_score', 'math_score', 'writing_score'].mean();"
      ]
    },
    {
      "cell_type": "code",
      "execution_count": null,
      "metadata": {
        "colab": {
          "base_uri": "https://localhost:8080/",
          "height": 512
        },
        "id": "KNbtNk5gi41n",
        "outputId": "968a4d44-f71b-4cb7-ffcb-584e2932b06f"
      },
      "outputs": [
        {
          "data": {
            "image/png": "[encoded data removed]",
            "text/plain": [
              "<Figure size 1080x504 with 1 Axes>"
            ]
          },
          "metadata": {
            "needs_background": "light",
            "tags": []
          },
          "output_type": "display_data"
        }
      ],
      "source": [
        "df2.plot.bar(figsize=(15,7));\n",
        "plt.title(\"Free/Reduced Lunch vs Standard Lunch\");\n",
        "plt.ylabel(\"Average Score\");\n",
        "plt.show();\n",
        "#the bars on the left is free/Reduced Lunch and the bars on the right is standard lunch"
      ]
    },
    {
      "cell_type": "code",
      "execution_count": null,
      "metadata": {
        "colab": {
          "base_uri": "https://localhost:8080/",
          "height": 543
        },
        "id": "8as1TAVUL7Ks",
        "outputId": "f1974d32-d795-4409-ab44-363c2c373eef"
      },
      "outputs": [
        {
          "data": {
            "image/png": "[encoded data removed]",
            "text/plain": [
              "<Figure size 1080x504 with 1 Axes>"
            ]
          },
          "metadata": {
            "needs_background": "light",
            "tags": []
          },
          "output_type": "display_data"
        }
      ],
      "source": [
        "df3 = df.groupby('parents_degree')['reading_score', 'math_score', 'writing_score'].mean()\n",
        "df3.plot.bar(figsize=(15,7))\n",
        "plt.ylabel(\"Average score\")\n",
        "plt.title(\"Scores depend on Parents' Degree level\")\n",
        "plt.show()\n",
        "#starting from left to right: associaate degree, bachelor degree, high school degree, master degree, some college, some high school"
      ]
    },
    {
      "cell_type": "code",
      "execution_count": null,
      "metadata": {
        "colab": {
          "base_uri": "https://localhost:8080/"
        },
        "id": "CRxJN8Aai41s",
        "outputId": "b7dac0df-4581-4b8f-a60f-2a7667191ca9"
      },
      "outputs": [
        {
          "data": {
            "text/plain": [
              "gender            False\n",
              "race              False\n",
              "parents_degree    False\n",
              "lunch             False\n",
              "test_prep         False\n",
              "math_score        False\n",
              "reading_score     False\n",
              "writing_score     False\n",
              "dtype: bool"
            ]
          },
          "execution_count": 16,
          "metadata": {
            "tags": []
          },
          "output_type": "execute_result"
        }
      ],
      "source": [
        "df.isnull().any()"
      ]
    },
    {
      "cell_type": "code",
      "execution_count": null,
      "metadata": {
        "id": "n2sK18XWtxzV"
      },
      "outputs": [],
      "source": [
        "from sklearn.neighbors import KNeighborsClassifier\n",
        "from sklearn import preprocessing #transforming String to numerical data"
      ]
    },
    {
      "cell_type": "code",
      "execution_count": null,
      "metadata": {
        "colab": {
          "base_uri": "https://localhost:8080/",
          "height": 419
        },
        "id": "ZYviWGLZsVyd",
        "outputId": "d393689c-3852-4514-e235-3924fc8bf0cf"
      },
      "outputs": [
        {
          "data": {
            "text/html": [
              "<div>\n",
              "<style scoped>\n",
              "    .dataframe tbody tr th:only-of-type {\n",
              "        vertical-align: middle;\n",
              "    }\n",
              "\n",
              "    .dataframe tbody tr th {\n",
              "        vertical-align: top;\n",
              "    }\n",
              "\n",
              "    .dataframe thead th {\n",
              "        text-align: right;\n",
              "    }\n",
              "</style>\n",
              "<table border=\"1\" class=\"dataframe\">\n",
              "  <thead>\n",
              "    <tr style=\"text-align: right;\">\n",
              "      <th></th>\n",
              "      <th>parents_degree</th>\n",
              "    </tr>\n",
              "  </thead>\n",
              "  <tbody>\n",
              "    <tr>\n",
              "      <th>0</th>\n",
              "      <td>bachelor's degree</td>\n",
              "    </tr>\n",
              "    <tr>\n",
              "      <th>1</th>\n",
              "      <td>some college</td>\n",
              "    </tr>\n",
              "    <tr>\n",
              "      <th>2</th>\n",
              "      <td>master's degree</td>\n",
              "    </tr>\n",
              "    <tr>\n",
              "      <th>3</th>\n",
              "      <td>associate's degree</td>\n",
              "    </tr>\n",
              "    <tr>\n",
              "      <th>4</th>\n",
              "      <td>some college</td>\n",
              "    </tr>\n",
              "    <tr>\n",
              "      <th>...</th>\n",
              "      <td>...</td>\n",
              "    </tr>\n",
              "    <tr>\n",
              "      <th>995</th>\n",
              "      <td>master's degree</td>\n",
              "    </tr>\n",
              "    <tr>\n",
              "      <th>996</th>\n",
              "      <td>high school</td>\n",
              "    </tr>\n",
              "    <tr>\n",
              "      <th>997</th>\n",
              "      <td>high school</td>\n",
              "    </tr>\n",
              "    <tr>\n",
              "      <th>998</th>\n",
              "      <td>some college</td>\n",
              "    </tr>\n",
              "    <tr>\n",
              "      <th>999</th>\n",
              "      <td>some college</td>\n",
              "    </tr>\n",
              "  </tbody>\n",
              "</table>\n",
              "<p>1000 rows × 1 columns</p>\n",
              "</div>"
            ],
            "text/plain": [
              "         parents_degree\n",
              "0     bachelor's degree\n",
              "1          some college\n",
              "2       master's degree\n",
              "3    associate's degree\n",
              "4          some college\n",
              "..                  ...\n",
              "995     master's degree\n",
              "996         high school\n",
              "997         high school\n",
              "998        some college\n",
              "999        some college\n",
              "\n",
              "[1000 rows x 1 columns]"
            ]
          },
          "execution_count": 18,
          "metadata": {
            "tags": []
          },
          "output_type": "execute_result"
        }
      ],
      "source": [
        "# Splitting data into features and labels\n",
        "xdf = df[['parents_degree']]\n",
        "ydf = df[['math_score']]\n",
        "xdf"
      ]
    },
    {
      "cell_type": "code",
      "execution_count": null,
      "metadata": {
        "colab": {
          "base_uri": "https://localhost:8080/"
        },
        "id": "0-vBzLxtDNqN",
        "outputId": "0d22584c-09e7-4fb8-c4f4-f153ef769f2a"
      },
      "outputs": [
        {
          "data": {
            "text/plain": [
              "array([1, 4, 3, 0, 4, 0, 4, 4, 2, 2, 0, 0, 2, 4, 3, 5, 2, 5, 3, 0, 2, 4,\n",
              "       4, 5, 1, 3, 4, 1, 2, 3, 4, 4, 3, 4, 4, 0, 0, 5, 0, 0, 0, 0, 0, 4,\n",
              "       0, 0, 0, 2, 0, 2, 4, 0, 4, 2, 5, 2, 0, 0, 4, 5, 1, 5, 0, 0, 5, 5,\n",
              "       5, 4, 0, 0, 4, 4, 0, 5, 5, 0, 5, 1, 5, 3, 0, 2, 4, 0, 2, 4, 4, 0,\n",
              "       4, 5, 1, 2, 2, 0, 4, 0, 5, 4, 4, 1, 4, 1, 0, 2, 4, 4, 3, 0, 0, 5,\n",
              "       0, 2, 0, 4, 1, 2, 1, 1, 5, 4, 1, 0, 4, 2, 4, 2, 5, 4, 3, 1, 3, 5,\n",
              "       4, 4, 1, 1, 5, 2, 0, 4, 5, 4, 4, 2, 4, 4, 5, 0, 1, 0, 5, 1, 0, 1,\n",
              "       5, 4, 2, 4, 0, 0, 0, 4, 3, 2, 3, 1, 2, 3, 2, 4, 2, 5, 4, 0, 1, 3,\n",
              "       2, 0, 3, 5, 3, 4, 2, 0, 5, 0, 2, 5, 5, 1, 0, 4, 5, 4, 3, 0, 5, 2,\n",
              "       4, 1, 0, 4, 0, 0, 4, 5, 1, 2, 4, 4, 5, 4, 2, 0, 2, 5, 0, 2, 2, 5,\n",
              "       2, 0, 5, 5, 0, 3, 4, 2, 5, 4, 4, 0, 1, 5, 1, 0, 1, 5, 4, 0, 2, 1,\n",
              "       2, 4, 5, 0, 0, 2, 2, 2, 5, 4, 5, 3, 2, 4, 0, 0, 4, 3, 5, 4, 5, 2,\n",
              "       2, 5, 1, 2, 0, 4, 1, 4, 0, 4, 4, 1, 5, 2, 5, 1, 2, 2, 1, 4, 5, 0,\n",
              "       0, 5, 1, 5, 0, 5, 5, 1, 2, 0, 5, 0, 2, 0, 4, 5, 0, 0, 0, 4, 4, 5,\n",
              "       0, 2, 0, 1, 1, 0, 1, 2, 3, 0, 1, 0, 2, 2, 4, 5, 2, 4, 4, 4, 0, 5,\n",
              "       2, 0, 0, 0, 1, 4, 5, 0, 5, 5, 2, 2, 2, 0, 4, 2, 4, 1, 2, 0, 1, 4,\n",
              "       4, 0, 4, 1, 0, 4, 4, 4, 2, 5, 4, 5, 4, 1, 2, 1, 5, 5, 4, 4, 5, 4,\n",
              "       1, 0, 5, 3, 5, 1, 0, 0, 3, 5, 5, 4, 1, 0, 2, 3, 5, 4, 4, 0, 5, 2,\n",
              "       2, 0, 5, 5, 5, 4, 4, 2, 2, 5, 0, 0, 2, 0, 3, 4, 0, 5, 1, 2, 1, 0,\n",
              "       4, 2, 0, 2, 3, 5, 4, 4, 1, 5, 5, 5, 0, 2, 2, 5, 5, 4, 0, 0, 2, 5,\n",
              "       4, 2, 5, 0, 5, 5, 4, 2, 2, 0, 4, 4, 0, 4, 0, 1, 1, 0, 1, 2, 1, 4,\n",
              "       4, 4, 1, 4, 0, 2, 2, 4, 0, 2, 0, 5, 0, 1, 1, 0, 3, 0, 2, 0, 4, 2,\n",
              "       0, 2, 4, 0, 5, 0, 0, 0, 4, 1, 2, 2, 4, 4, 5, 4, 3, 0, 4, 0, 3, 5,\n",
              "       2, 1, 3, 1, 4, 5, 5, 5, 3, 5, 4, 4, 5, 2, 4, 0, 1, 3, 2, 4, 5, 2,\n",
              "       1, 0, 0, 5, 0, 0, 2, 1, 0, 2, 1, 0, 2, 0, 0, 0, 3, 5, 5, 2, 2, 3,\n",
              "       5, 1, 0, 4, 0, 4, 0, 3, 0, 5, 4, 4, 1, 4, 1, 0, 1, 3, 2, 1, 4, 1,\n",
              "       4, 2, 2, 0, 4, 2, 4, 3, 5, 5, 1, 0, 4, 0, 2, 1, 4, 5, 4, 5, 1, 2,\n",
              "       1, 1, 2, 5, 2, 5, 3, 2, 4, 2, 3, 5, 0, 3, 4, 0, 4, 4, 1, 0, 0, 2,\n",
              "       1, 1, 3, 0, 2, 1, 2, 4, 1, 4, 0, 0, 4, 5, 4, 2, 1, 2, 5, 2, 2, 5,\n",
              "       4, 0, 2, 0, 5, 2, 2, 1, 0, 2, 2, 4, 5, 2, 4, 0, 5, 4, 0, 5, 0, 0,\n",
              "       4, 5, 4, 2, 0, 5, 4, 1, 4, 0, 2, 0, 4, 0, 2, 4, 4, 5, 0, 4, 2, 2,\n",
              "       2, 5, 4, 3, 4, 0, 2, 4, 0, 0, 1, 0, 5, 4, 0, 1, 0, 2, 1, 5, 1, 4,\n",
              "       5, 1, 2, 4, 2, 0, 4, 5, 4, 3, 5, 0, 0, 0, 2, 0, 4, 5, 5, 2, 4, 4,\n",
              "       0, 5, 2, 4, 0, 5, 4, 5, 4, 3, 0, 4, 0, 2, 1, 0, 2, 0, 4, 0, 2, 4,\n",
              "       1, 4, 5, 4, 3, 5, 0, 0, 4, 1, 4, 4, 2, 5, 5, 2, 4, 2, 2, 2, 5, 4,\n",
              "       2, 1, 5, 1, 4, 5, 2, 4, 4, 0, 0, 3, 2, 0, 1, 5, 5, 4, 0, 3, 2, 4,\n",
              "       2, 5, 2, 0, 2, 0, 4, 0, 5, 5, 0, 4, 4, 4, 4, 2, 2, 1, 5, 2, 3, 5,\n",
              "       2, 5, 1, 1, 2, 5, 5, 1, 4, 2, 5, 2, 0, 5, 5, 5, 4, 1, 1, 2, 4, 2,\n",
              "       2, 2, 0, 0, 2, 5, 2, 4, 5, 3, 3, 2, 2, 0, 3, 2, 4, 5, 5, 1, 4, 1,\n",
              "       2, 0, 0, 3, 1, 4, 0, 4, 2, 0, 0, 0, 2, 4, 0, 0, 1, 4, 4, 5, 5, 0,\n",
              "       1, 1, 2, 1, 0, 0, 0, 2, 4, 2, 4, 0, 3, 5, 0, 5, 2, 5, 0, 5, 3, 3,\n",
              "       2, 1, 5, 4, 2, 4, 1, 1, 1, 4, 1, 1, 0, 4, 1, 2, 0, 4, 2, 2, 2, 0,\n",
              "       2, 5, 0, 2, 0, 5, 4, 4, 0, 1, 0, 4, 0, 2, 4, 5, 3, 3, 2, 5, 2, 0,\n",
              "       2, 4, 5, 2, 2, 4, 5, 2, 4, 0, 4, 3, 2, 2, 4, 5, 0, 5, 4, 4, 5, 4,\n",
              "       0, 1, 1, 5, 2, 4, 4, 4, 4, 0, 2, 0, 2, 5, 5, 4, 5, 2, 0, 5, 5, 4,\n",
              "       2, 5, 0, 1, 2, 3, 2, 2, 4, 4])"
            ]
          },
          "execution_count": 19,
          "metadata": {
            "tags": []
          },
          "output_type": "execute_result"
        }
      ],
      "source": [
        "# Encoding String data\n",
        "le = preprocessing.LabelEncoder()\n",
        "xdf = le.fit_transform(xdf)\n",
        "xdf"
      ]
    },
    {
      "cell_type": "code",
      "execution_count": null,
      "metadata": {
        "id": "n7XPM8cJsodo"
      },
      "outputs": [],
      "source": [
        "# x values are now numerical"
      ]
    },
    {
      "cell_type": "code",
      "execution_count": null,
      "metadata": {
        "id": "yPhe_iV4Ey-X"
      },
      "outputs": [],
      "source": [
        "# Re-shaping data into 2d array\n",
        "xdf = xdf.reshape(-1,1) "
      ]
    },
    {
      "cell_type": "code",
      "execution_count": null,
      "metadata": {
        "id": "so87L_snaf1P"
      },
      "outputs": [],
      "source": [
        "#0: associate's\n",
        "#1: bachelor's \n",
        "#2: college\n",
        "#3: master's\n",
        "#4: some college\n",
        "#5: some highschool"
      ]
    },
    {
      "cell_type": "code",
      "execution_count": null,
      "metadata": {
        "id": "NmJfn-DotzYD"
      },
      "outputs": [],
      "source": [
        "# Predicting data with knn\n",
        "knn_1 = KNeighborsClassifier(n_neighbors = 1) #k=1\n",
        "knn_1 = knn_1.fit(xdf, ydf)"
      ]
    },
    {
      "cell_type": "code",
      "execution_count": null,
      "metadata": {
        "colab": {
          "base_uri": "https://localhost:8080/"
        },
        "id": "uSi62eiMEwDz",
        "outputId": "45b3228e-5d26-40b0-a55b-49be5b5e38ad"
      },
      "outputs": [
        {
          "name": "stdout",
          "output_type": "stream",
          "text": [
            "[85 59 59 79 70 74]\n"
          ]
        }
      ],
      "source": [
        "print(knn_1.predict([[0],[1],[2],[3],[4],[5]]))"
      ]
    },
    {
      "cell_type": "code",
      "execution_count": null,
      "metadata": {
        "colab": {
          "base_uri": "https://localhost:8080/"
        },
        "id": "zATJKI7obRxZ",
        "outputId": "38875629-0106-43f8-beba-267629e8e4c4"
      },
      "outputs": [
        {
          "name": "stdout",
          "output_type": "stream",
          "text": [
            "[55 59 41 79 59 53]\n"
          ]
        }
      ],
      "source": [
        "knn_3 = KNeighborsClassifier(n_neighbors=3) #k=3\n",
        "knn_3 = knn_3.fit(xdf,ydf)\n",
        "print(knn_3.predict([[0],[1],[2],[3],[4],[5]]))"
      ]
    },
    {
      "cell_type": "code",
      "execution_count": null,
      "metadata": {
        "colab": {
          "base_uri": "https://localhost:8080/"
        },
        "id": "fycY00Smcbxh",
        "outputId": "cc5554d6-3b46-4db0-a2d5-8bea480516ad"
      },
      "outputs": [
        {
          "name": "stdout",
          "output_type": "stream",
          "text": [
            "[65 65 65 62 69 69]\n"
          ]
        }
      ],
      "source": [
        "# Predicting data with Logistic Regression\n",
        "from sklearn.linear_model import LogisticRegression\n",
        "logreg = LogisticRegression()\n",
        "logreg = logreg.fit(xdf,ydf)\n",
        "print(logreg.predict([[0],[1],[2],[3],[4],[5]]))"
      ]
    },
    {
      "cell_type": "code",
      "execution_count": null,
      "metadata": {
        "id": "9WMsJV82-HZZ"
      },
      "outputs": [],
      "source": [
        "# Train test split to test accuracy and R^2 score\n",
        "from sklearn.model_selection import train_test_split\n",
        "from sklearn.metrics import accuracy_score\n",
        "from sklearn.metrics import r2_score"
      ]
    },
    {
      "cell_type": "code",
      "execution_count": null,
      "metadata": {
        "id": "m9GDoz2he_8F"
      },
      "outputs": [],
      "source": [
        "x_train, x_test, y_train, y_test = train_test_split(xdf, ydf, test_size=0.2)"
      ]
    },
    {
      "cell_type": "code",
      "execution_count": null,
      "metadata": {
        "colab": {
          "base_uri": "https://localhost:8080/"
        },
        "id": "Gj2nyM0RgrZn",
        "outputId": "d35345c9-3e06-4af2-eed6-54b906772c8e"
      },
      "outputs": [
        {
          "data": {
            "text/plain": [
              "0.04"
            ]
          },
          "execution_count": 29,
          "metadata": {
            "tags": []
          },
          "output_type": "execute_result"
        }
      ],
      "source": [
        "# k=3 KNN \n",
        "y_pred = knn_3.predict(x_test)\n",
        "accuracy_score(y_test, y_pred)"
      ]
    },
    {
      "cell_type": "code",
      "execution_count": null,
      "metadata": {
        "colab": {
          "base_uri": "https://localhost:8080/"
        },
        "id": "6RF4zn9WrXfW",
        "outputId": "34e71ac3-a58b-4a71-bb41-77bc6c02adf0"
      },
      "outputs": [
        {
          "data": {
            "text/plain": [
              "0.065"
            ]
          },
          "execution_count": 30,
          "metadata": {
            "tags": []
          },
          "output_type": "execute_result"
        }
      ],
      "source": [
        "# Logistic Regression prediction\n",
        "y_pred = logreg.predict(x_test)\n",
        "accuracy_score(y_test, y_pred)"
      ]
    },
    {
      "cell_type": "code",
      "execution_count": null,
      "metadata": {
        "id": "4euuHmEhfMRF"
      },
      "outputs": [],
      "source": [
        "score = [] # accuracy score\n",
        "score2 = [] # r^2"
      ]
    },
    {
      "cell_type": "code",
      "execution_count": null,
      "metadata": {
        "id": "ZbDvydBL_SJa"
      },
      "outputs": [],
      "source": [
        "# Create a list of k's and record accuracy score and r^2 accordingly\n",
        "k = list(range(1,30))\n",
        "for i in k:\n",
        "  knn = KNeighborsClassifier(n_neighbors=i)\n",
        "  knn = knn.fit(x_train, y_train)\n",
        "  y_pred = knn.predict(x_test)\n",
        "  score.append(accuracy_score(y_test, y_pred))\n",
        "  score2.append(r2_score(y_test, y_pred))"
      ]
    },
    {
      "cell_type": "code",
      "execution_count": null,
      "metadata": {
        "colab": {
          "base_uri": "https://localhost:8080/"
        },
        "id": "UT-my75fetVF",
        "outputId": "07de05fc-ecee-4b79-b43c-fa24aeed43a2"
      },
      "outputs": [
        {
          "data": {
            "text/plain": [
              "[0.01,\n",
              " 0.015,\n",
              " 0.01,\n",
              " 0.01,\n",
              " 0.0,\n",
              " 0.01,\n",
              " 0.005,\n",
              " 0.005,\n",
              " 0.005,\n",
              " 0.005,\n",
              " 0.005,\n",
              " 0.005,\n",
              " 0.005,\n",
              " 0.01,\n",
              " 0.01,\n",
              " 0.01,\n",
              " 0.01,\n",
              " 0.01,\n",
              " 0.01]"
            ]
          },
          "execution_count": 417,
          "metadata": {
            "tags": []
          },
          "output_type": "execute_result"
        }
      ],
      "source": [
        "score"
      ]
    },
    {
      "cell_type": "code",
      "execution_count": null,
      "metadata": {
        "colab": {
          "base_uri": "https://localhost:8080/"
        },
        "id": "CM9wXbdunaCx",
        "outputId": "a0d37d42-5421-40a1-c5b2-0fca58c09781"
      },
      "outputs": [
        {
          "data": {
            "text/plain": [
              "[-1.3628659401754772,\n",
              " -1.2278177480433734,\n",
              " -1.2278177480433734,\n",
              " -1.2278177480433734,\n",
              " -1.240106178683122,\n",
              " -1.240106178683122,\n",
              " -1.4406234759465906,\n",
              " -1.7077307824876162,\n",
              " -1.6589091796756414,\n",
              " -2.849599987711569,\n",
              " -2.849599987711569,\n",
              " -2.849599987711569,\n",
              " -1.5304826249997534,\n",
              " -0.7133850173932148,\n",
              " -0.889366968345563,\n",
              " -1.888528469771758,\n",
              " -2.0742041658402592,\n",
              " -2.318893389457419,\n",
              " -0.5018247385413237,\n",
              " -0.5018247385413237,\n",
              " -0.5524729999619098,\n",
              " -0.5524729999619098,\n",
              " -0.5524729999619098,\n",
              " -0.5524729999619098,\n",
              " -0.5524729999619098,\n",
              " -0.3519557026984417,\n",
              " -0.38267677929781363,\n",
              " -0.367980480492168,\n",
              " -0.367980480492168]"
            ]
          },
          "execution_count": 33,
          "metadata": {
            "tags": []
          },
          "output_type": "execute_result"
        }
      ],
      "source": [
        "score2"
      ]
    },
    {
      "cell_type": "code",
      "execution_count": null,
      "metadata": {
        "colab": {
          "base_uri": "https://localhost:8080/"
        },
        "id": "8TM1FY4QjDUD",
        "outputId": "a5452d76-474f-498a-9128-c8891108887e"
      },
      "outputs": [
        {
          "data": {
            "text/plain": [
              "0.015"
            ]
          },
          "execution_count": 34,
          "metadata": {
            "tags": []
          },
          "output_type": "execute_result"
        }
      ],
      "source": [
        "#bad model :)\n",
        "# trying with higher k \n",
        "knn35 = KNeighborsClassifier(n_neighbors=35)\n",
        "knn35 = knn35.fit(x_train, y_train)\n",
        "y_pred = knn35.predict(x_test)\n",
        "accuracy_score(y_test, y_pred)"
      ]
    },
    {
      "cell_type": "code",
      "execution_count": null,
      "metadata": {
        "id": "vCnzyKQazbOr"
      },
      "outputs": [],
      "source": [
        "# still bad model"
      ]
    },
    {
      "cell_type": "code",
      "execution_count": null,
      "metadata": {
        "id": "rXvJh3DxzrpA"
      },
      "outputs": [],
      "source": []
    }
  ],
  "metadata": {
    "colab": {
      "name": "FinalProjectDS201.ipynb",
      "provenance": []
    },
    "kernelspec": {
      "display_name": "Python 3",
      "language": "python",
      "name": "python3"
    },
    "language_info": {
      "codemirror_mode": {
        "name": "ipython",
        "version": 3
      },
      "file_extension": ".py",
      "mimetype": "text/x-python",
      "name": "python",
      "nbconvert_exporter": "python",
      "pygments_lexer": "ipython3",
      "version": "3.8.5"
    }
  },
  "nbformat": 4,
  "nbformat_minor": 0
}
